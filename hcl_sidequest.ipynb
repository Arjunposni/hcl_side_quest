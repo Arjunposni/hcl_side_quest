{
 "cells": [
  {
   "cell_type": "markdown",
   "id": "171b4320",
   "metadata": {},
   "source": [
    "1. question"
   ]
  },
  {
   "cell_type": "code",
   "execution_count": null,
   "id": "f5b94cb1",
   "metadata": {},
   "outputs": [
    {
     "name": "stdout",
     "output_type": "stream",
     "text": [
      "Series after adding:\n",
      " 0    11\n",
      "1    22\n",
      "2    33\n",
      "3    44\n",
      "4    55\n",
      "5    66\n",
      "6    77\n",
      "dtype: int64\n",
      "Serie after multiplying:\n",
      " 0     10\n",
      "1     40\n",
      "2     90\n",
      "3    160\n",
      "4    250\n",
      "5    360\n",
      "6    490\n",
      "dtype: int64\n",
      "the first three days of the week are:\n",
      " 0       Monday\n",
      "1      Tuesday\n",
      "2    Wednesday\n",
      "dtype: object\n",
      "The last two days of the week are:\n",
      " 5    Saturday\n",
      "6      Sunday\n",
      "dtype: object\n",
      "Reversed days are:\n",
      " 6       Sunday\n",
      "5     Saturday\n",
      "4       Friday\n",
      "3     Thursday\n",
      "2    Wednesday\n",
      "1      Tuesday\n",
      "0       Monday\n",
      "dtype: object\n",
      "DataFrame with TotalValue:\n",
      "     Product  Price  Stock  TotalValue\n",
      "0       Pen     10    100        1000\n",
      "1  Notebook     40     50        2000\n",
      "2    Eraser      5    200        1000\n",
      "3    Pencil      7    150        1050\n",
      "\n",
      "Product with highest stock: Eraser\n"
     ]
    }
   ],
   "source": [
    "import numpy as np\n",
    "import pandas as pd\n",
    "\n",
    "s1=pd.Series([10,20,30,40,50,60,70])\n",
    "s2=pd.Series([1,2,3,4,5,6,7])\n",
    "\n",
    "addition=s1+s2\n",
    "print(\"Series after adding:\\n\",addition)\n",
    "\n",
    "multiply=s1*s2\n",
    "print(\"Serie after multiplying:\\n\",multiply)\n",
    "\n",
    "days=pd.Series([\"Monday\",\"Tuesday\",\"Wednesday\",\"Thursday\",\"Friday\",\"Saturday\",\"Sunday\"])\n",
    "print(\"the first three days of the week are:\\n\",days[:3])\n",
    "print(\"The last two days of the week are:\\n\",days[-2:])\n",
    "\n",
    "reversed_days=days[::-1]\n",
    "print(\"Reversed days are:\\n\",reversed_days)\n",
    "\n",
    "import pandas as pd\n",
    "\n",
    "data = {\n",
    "    'Product': ['Pen', 'Notebook', 'Eraser', 'Pencil'],\n",
    "    'Price': [10, 40, 5, 7],\n",
    "    'Stock': [100, 50, 200, 150]\n",
    "}\n",
    "df = pd.DataFrame(data)\n",
    "\n",
    "df['TotalValue'] = df['Price'] * df['Stock']\n",
    "print(\"DataFrame with TotalValue:\\n\", df)\n",
    "\n",
    "highest_stock_product = df.loc[df['Stock'].idxmax(), 'Product']\n",
    "print(\"\\nProduct with highest stock:\", highest_stock_product)\n"
   ]
  },
  {
   "cell_type": "markdown",
   "id": "ef24f840",
   "metadata": {},
   "source": [
    "2nd question"
   ]
  },
  {
   "cell_type": "code",
   "execution_count": 12,
   "id": "e70aee46",
   "metadata": {},
   "outputs": [
    {
     "name": "stdout",
     "output_type": "stream",
     "text": [
      "\n",
      "Original Data Frame:\n",
      "      A   B   C\n",
      "0   91  74  79\n",
      "1   18  79  55\n",
      "2  100  76  84\n",
      "3   68  82  41\n",
      "4   80  68  23\n",
      "\n",
      "new Df:\n",
      "       A     B     C\n",
      "0  High  High  High\n",
      "1   Low  High  High\n",
      "2  High  High  High\n",
      "3  High  High   Low\n",
      "4  High  High   Low\n"
     ]
    },
    {
     "name": "stderr",
     "output_type": "stream",
     "text": [
      "C:\\Users\\ACER\\AppData\\Local\\Temp\\ipykernel_10624\\2780348954.py:6: FutureWarning: DataFrame.applymap has been deprecated. Use DataFrame.map instead.\n",
      "  new_df=df2.applymap(lambda x:'High' if x>50 else 'Low')\n"
     ]
    }
   ],
   "source": [
    "random_data=np.random.randint(10,101,size=(5,3))\n",
    "df2=pd.DataFrame(random_data,columns=[\"A\",\"B\",\"C\"])\n",
    "\n",
    "print(\"\\nOriginal Data Frame:\\n\",df2)\n",
    "\n",
    "new_df=df2.applymap(lambda x:'High' if x>50 else 'Low')\n",
    "print(\"\\nnew Df:\\n\",new_df)"
   ]
  }
 ],
 "metadata": {
  "kernelspec": {
   "display_name": "base",
   "language": "python",
   "name": "python3"
  },
  "language_info": {
   "codemirror_mode": {
    "name": "ipython",
    "version": 3
   },
   "file_extension": ".py",
   "mimetype": "text/x-python",
   "name": "python",
   "nbconvert_exporter": "python",
   "pygments_lexer": "ipython3",
   "version": "3.12.7"
  }
 },
 "nbformat": 4,
 "nbformat_minor": 5
}
